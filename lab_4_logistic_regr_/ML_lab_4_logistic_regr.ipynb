{
 "cells": [
  {
   "cell_type": "code",
   "execution_count": 1,
   "metadata": {},
   "outputs": [],
   "source": [
    "from matplotlib import pyplot as plt\n",
    "import numpy as np\n",
    "import pandas as pd"
   ]
  },
  {
   "cell_type": "markdown",
   "metadata": {},
   "source": [
    "## Exercise 1"
   ]
  },
  {
   "cell_type": "code",
   "execution_count": 2,
   "metadata": {},
   "outputs": [],
   "source": [
    "X = np.array([1, 2, 3, 4, 5, 6, 7, 8, 9, 15, 25], dtype=np.float32)\n",
    "y = np.array([0, 0, 0, 0, 0, 0, 1, 1, 1,  1,  1], dtype=np.float32)\n",
    "\n",
    "theta = np.array([0, 0], dtype=np.float32)"
   ]
  },
  {
   "cell_type": "code",
   "execution_count": 3,
   "metadata": {},
   "outputs": [],
   "source": [
    "max_iter = 10000\n",
    "eps = 0.00001\n",
    "prev_cost = 99"
   ]
  },
  {
   "cell_type": "code",
   "execution_count": 4,
   "metadata": {},
   "outputs": [
    {
     "name": "stdout",
     "output_type": "stream",
     "text": [
      "iter  1 , cost  0.6931271553039551\n",
      "iter  201 , cost  0.30629978341113945\n",
      "iter  401 , cost  0.23421741421324524\n",
      "iter  601 , cost  0.19879218728833206\n",
      "iter  801 , cost  0.17673719979583521\n",
      "iter  1001 , cost  0.16127501798721575\n",
      "iter  1201 , cost  0.14963012529510292\n",
      "iter  1401 , cost  0.1404300792034767\n",
      "iter  1601 , cost  0.13290822395744975\n",
      "iter  1801 , cost  0.12659843264447607\n",
      "iter  2001 , cost  0.12119857560661661\n",
      "iter  2201 , cost  0.11650309125649404\n",
      "iter  2401 , cost  0.11236642009635034\n",
      "iter  2601 , cost  0.10868225700625606\n",
      "iter  2801 , cost  0.10537082050461777\n",
      "iter  3001 , cost  0.10237090754716602\n",
      "iter  3201 , cost  0.09963465652708692\n",
      "iter  3401 , cost  0.09712398496301168\n",
      "iter  3601 , cost  0.09480826353658565\n",
      "iter  3801 , cost  0.09266236309304077\n"
     ]
    }
   ],
   "source": [
    "for i in range(max_iter):\n",
    "    h_x = 1 / (1 + np.exp(-theta[0] - theta[1]*X))\n",
    "    \n",
    "    #finding best parameters theta comes down to minimazing crossentropy func\n",
    "    crossentropy = -y*np.log(h_x + 0.00001) - (1-y)*np.log(1-h_x + 0.00001)\n",
    "    cost = sum(crossentropy) / len(y)\n",
    "\n",
    "    # Compute theta_deriv the same as in linear regression\n",
    "    theta0_deriv = sum(h_x-y)/len(y)\n",
    "    theta1_deriv = sum((h_x-y) * X) / len(y)\n",
    "\n",
    "    alpha = 0.1\n",
    "\n",
    "    theta[0] = theta[0] - alpha*theta0_deriv\n",
    "    theta[1] = theta[1] - alpha*theta1_deriv\n",
    "    \n",
    "    # print every 200 iter:\n",
    "    if i%200 == 0:\n",
    "        print(\"iter \", str(i+1), \", cost \", cost)\n",
    "        \n",
    "\n",
    "    if np.abs(prev_cost - cost) < eps:\n",
    "        break\n",
    "\n",
    "    prev_cost = cost"
   ]
  },
  {
   "cell_type": "code",
   "execution_count": 5,
   "metadata": {},
   "outputs": [],
   "source": [
    "dec_bound = -theta[0]/theta[1]"
   ]
  },
  {
   "cell_type": "markdown",
   "metadata": {},
   "source": [
    "### Ex 1 Results"
   ]
  },
  {
   "cell_type": "code",
   "execution_count": 6,
   "metadata": {},
   "outputs": [
    {
     "name": "stdout",
     "output_type": "stream",
     "text": [
      "After optimization:\n",
      "theta :  [-9.830578   1.5369736]\n",
      "cost :  0.09176648165521328\n",
      "decision bundary:  6.3960614\n"
     ]
    }
   ],
   "source": [
    "print(\"After optimization:\")\n",
    "print(\"theta : \", theta)\n",
    "print(\"cost : \", cost)\n",
    "print(\"decision bundary: \", dec_bound)"
   ]
  },
  {
   "cell_type": "code",
   "execution_count": 7,
   "metadata": {},
   "outputs": [
    {
     "data": {
      "image/png": "[encoded data removed]",
      "text/plain": [
       "<Figure size 432x288 with 1 Axes>"
      ]
     },
     "metadata": {
      "needs_background": "light"
     },
     "output_type": "display_data"
    }
   ],
   "source": [
    "x_samples = np.linspace(min(X), max(X), 100)\n",
    "y_samples = 1 / (1 + np.exp(-theta[0] - theta[1]*x_samples))\n",
    "\n",
    "plt.plot(X, y, 'o')\n",
    "plt.plot(x_samples, y_samples, '-')\n",
    "\n",
    "X_dec_b = [dec_bound, dec_bound]\n",
    "Y_dec_b = [0.0, 1.0]\n",
    "plt.plot(X_dec_b, Y_dec_b, 'g.--')\n",
    "\n",
    "plt.show()"
   ]
  },
  {
   "cell_type": "markdown",
   "metadata": {},
   "source": [
    "## Exercise 2"
   ]
  },
  {
   "cell_type": "code",
   "execution_count": 8,
   "metadata": {},
   "outputs": [],
   "source": [
    "X = np.array([[ 1, 2, 3, 4, 5, 6, 7, 8, 9, 15, 25],\n",
    "              [13, 9, 8, 6, 4, 2, 1, 0, 3,  4,  2]], dtype=np.float32)\n",
    "\n",
    "y = np.array([0, 0, 0, 0, 0, 0, 1, 1, 1,  1,  1], dtype=np.float32)\n",
    "y.shape = [1, len(y)]\n",
    "theta = np.zeros((X.shape[0] +1, 1))"
   ]
  },
  {
   "cell_type": "code",
   "execution_count": 9,
   "metadata": {},
   "outputs": [],
   "source": [
    "# Add ones vector to X\n",
    "X_ones = np.ones(X.shape[1])\n",
    "X_ones.shape = [1, len(X_ones)]"
   ]
  },
  {
   "cell_type": "code",
   "execution_count": 10,
   "metadata": {},
   "outputs": [],
   "source": [
    "X = np.concatenate((X_ones, X),axis=0)"
   ]
  },
  {
   "cell_type": "code",
   "execution_count": 11,
   "metadata": {},
   "outputs": [
    {
     "data": {
      "text/plain": [
       "array([[ 1.,  1.,  1.,  1.,  1.,  1.,  1.,  1.,  1.,  1.,  1.],\n",
       "       [ 1.,  2.,  3.,  4.,  5.,  6.,  7.,  8.,  9., 15., 25.],\n",
       "       [13.,  9.,  8.,  6.,  4.,  2.,  1.,  0.,  3.,  4.,  2.]])"
      ]
     },
     "execution_count": 11,
     "metadata": {},
     "output_type": "execute_result"
    }
   ],
   "source": [
    "X"
   ]
  },
  {
   "cell_type": "code",
   "execution_count": 12,
   "metadata": {},
   "outputs": [],
   "source": [
    "max_iter = 10000\n",
    "eps = 0.00001\n",
    "alpha = 0.05\n",
    "prev_cost = 99"
   ]
  },
  {
   "cell_type": "code",
   "execution_count": 13,
   "metadata": {},
   "outputs": [
    {
     "name": "stdout",
     "output_type": "stream",
     "text": [
      "iter  1 , cost  0.6931271807599427\n",
      "iter  201 , cost  0.14527660309092222\n",
      "iter  401 , cost  0.13134430979935588\n",
      "iter  601 , cost  0.12376918937117352\n",
      "iter  801 , cost  0.1183248116132314\n",
      "iter  1001 , cost  0.11393628186814432\n",
      "iter  1201 , cost  0.11018248958757319\n",
      "iter  1401 , cost  0.10685731636114468\n",
      "iter  1601 , cost  0.10384488361151334\n",
      "iter  1801 , cost  0.10107357396371434\n",
      "iter  2001 , cost  0.09849597222241017\n",
      "iter  2201 , cost  0.09607899963122346\n",
      "iter  2401 , cost  0.09379860534350448\n",
      "iter  2601 , cost  0.09163670368915194\n",
      "iter  2801 , cost  0.08957930627618428\n"
     ]
    }
   ],
   "source": [
    "for i in range(max_iter):\n",
    "    h_x = 1 / (1 + np.exp(-theta.T@X))\n",
    "\n",
    "    crossentropy = -y*np.log(h_x+0.00001) - (1-y)*np.log(1-h_x+0.00001)\n",
    "    [cost] = np.sum(crossentropy, axis=1) / X.shape[1]\n",
    "\n",
    "    theta_derivs = sum((h_x-y) @ X.T) / X.shape[1]\n",
    "    theta_derivs.shape = [len(theta_derivs), 1]\n",
    "\n",
    "    theta = theta - alpha*theta_derivs\n",
    "\n",
    "    # print every 200 iter:\n",
    "    if i%200 == 0:\n",
    "        print(\"iter \", str(i+1), \", cost \", cost)\n",
    "\n",
    "    if np.abs(prev_cost - cost) < eps:\n",
    "        break\n",
    "\n",
    "    prev_cost = cost"
   ]
  },
  {
   "cell_type": "markdown",
   "metadata": {},
   "source": [
    "### Ex 2 Results"
   ]
  },
  {
   "cell_type": "code",
   "execution_count": 14,
   "metadata": {},
   "outputs": [
    {
     "name": "stdout",
     "output_type": "stream",
     "text": [
      "After optimization:\n",
      "theta :  [[-2.37272547]\n",
      " [ 1.17270134]\n",
      " [-2.41199288]]\n",
      "cost :  0.08937886715239014\n"
     ]
    }
   ],
   "source": [
    "print(\"After optimization:\")\n",
    "print(\"theta : \", theta)\n",
    "print(\"cost : \", cost)"
   ]
  },
  {
   "cell_type": "code",
   "execution_count": 15,
   "metadata": {},
   "outputs": [],
   "source": [
    "x1 = np.linspace(np.min(X[1, :]), np.max(X[1, :]), 100)\n",
    "#decision boundary:\n",
    "x2 = -theta[0, 0]/theta[2, 0] - theta[1, 0]/theta[2, 0] * x1\n",
    "\n",
    "X_positive = X[:, y[0, :] == 1]\n",
    "X_negative = X[:, y[0, :] == 0]"
   ]
  },
  {
   "cell_type": "code",
   "execution_count": 16,
   "metadata": {},
   "outputs": [
    {
     "data": {
      "text/plain": [
       "array([[ 1.,  1.,  1.,  1.,  1.],\n",
       "       [ 7.,  8.,  9., 15., 25.],\n",
       "       [ 1.,  0.,  3.,  4.,  2.]])"
      ]
     },
     "execution_count": 16,
     "metadata": {},
     "output_type": "execute_result"
    }
   ],
   "source": [
    "X_positive"
   ]
  },
  {
   "cell_type": "code",
   "execution_count": 17,
   "metadata": {},
   "outputs": [
    {
     "data": {
      "image/png": "[encoded data removed]",
      "text/plain": [
       "<Figure size 432x288 with 1 Axes>"
      ]
     },
     "metadata": {
      "needs_background": "light"
     },
     "output_type": "display_data"
    }
   ],
   "source": [
    "plt.plot(X_positive[2, :], X_positive[1, :], '+')\n",
    "plt.plot(X_negative[2, :], X_negative[1, :], 'o')\n",
    "plt.plot(x2, x1, '--')\n",
    "plt.show()"
   ]
  },
  {
   "cell_type": "markdown",
   "metadata": {},
   "source": [
    "## Exercise 3"
   ]
  },
  {
   "cell_type": "code",
   "execution_count": 18,
   "metadata": {},
   "outputs": [],
   "source": [
    "data = pd.read_csv('./data.txt')\n",
    "data = data.values"
   ]
  },
  {
   "cell_type": "code",
   "execution_count": 19,
   "metadata": {},
   "outputs": [
    {
     "data": {
      "text/plain": [
       "(99, 3)"
      ]
     },
     "execution_count": 19,
     "metadata": {},
     "output_type": "execute_result"
    }
   ],
   "source": [
    "data.shape"
   ]
  },
  {
   "cell_type": "code",
   "execution_count": 20,
   "metadata": {},
   "outputs": [],
   "source": [
    "X = np.ones((data.shape[1], data.shape[0]))  # create X of size 3x99\n",
    "X[1:3, :] = data[:, 0:2].T  # fill X's second and third row with features, leave first row with ones\n",
    "\n",
    "y = data[:, 2:3].T "
   ]
  },
  {
   "cell_type": "code",
   "execution_count": 21,
   "metadata": {},
   "outputs": [],
   "source": [
    "#Data normalization\n",
    "X[1, :] = (X[1, :] - np.std(X[1, :])) / np.mean(X[1, :])\n",
    "X[2, :] = (X[2, :] - np.std(X[2, :])) / np.mean(X[2, :])"
   ]
  },
  {
   "cell_type": "code",
   "execution_count": 22,
   "metadata": {},
   "outputs": [],
   "source": [
    "# split dataset into a training set and a test set\n",
    "X_train = X[:,:70]\n",
    "y_train = y[:,:70]\n",
    "X_test = X[:,70:]\n",
    "y_test = y[:,70:]"
   ]
  },
  {
   "cell_type": "code",
   "execution_count": 23,
   "metadata": {},
   "outputs": [],
   "source": [
    "theta = np.zeros((X_train.shape[0], 1))\n",
    "\n",
    "max_iter = 10000\n",
    "eps = 0.00001\n",
    "alpha = 0.05\n",
    "prev_cost = 99"
   ]
  },
  {
   "cell_type": "code",
   "execution_count": 24,
   "metadata": {},
   "outputs": [
    {
     "name": "stdout",
     "output_type": "stream",
     "text": [
      "iter  1 , cost  0.6931271807599428\n",
      "iter  201 , cost  0.6242517111099367\n",
      "iter  401 , cost  0.5766342030368765\n",
      "iter  601 , cost  0.5376553296391804\n",
      "iter  801 , cost  0.5053859237819728\n",
      "iter  1001 , cost  0.47835357012520774\n",
      "iter  1201 , cost  0.455446263751762\n",
      "iter  1401 , cost  0.4358242345779636\n",
      "iter  1601 , cost  0.4188494070641435\n",
      "iter  1801 , cost  0.4040323856503468\n",
      "iter  2001 , cost  0.3909937051713974\n",
      "iter  2201 , cost  0.3794357864559981\n",
      "iter  2401 , cost  0.3691226405726415\n",
      "iter  2601 , cost  0.35986510109476066\n",
      "iter  2801 , cost  0.35150998848287035\n",
      "iter  3001 , cost  0.3439320810081563\n",
      "iter  3201 , cost  0.337028102876307\n",
      "iter  3401 , cost  0.3307121751596562\n",
      "iter  3601 , cost  0.3249123379689745\n",
      "iter  3801 , cost  0.3195678651041229\n",
      "iter  4001 , cost  0.31462717091480474\n",
      "iter  4201 , cost  0.3100461640966289\n",
      "iter  4401 , cost  0.3057869420024087\n",
      "iter  4601 , cost  0.3018167467523287\n",
      "iter  4801 , cost  0.2981071243666826\n",
      "iter  5001 , cost  0.29463324263325785\n",
      "iter  5201 , cost  0.29137333404686805\n",
      "iter  5401 , cost  0.2883082380216241\n",
      "iter  5601 , cost  0.2854210224462633\n",
      "iter  5801 , cost  0.28269666907127017\n",
      "iter  6001 , cost  0.2801218105690966\n",
      "iter  6201 , cost  0.2776845096720694\n",
      "iter  6401 , cost  0.27537407276663856\n",
      "iter  6601 , cost  0.27318089185346245\n",
      "iter  6801 , cost  0.2710963099777921\n"
     ]
    }
   ],
   "source": [
    "# train model on the training set\n",
    "for i in range(max_iter):\n",
    "    h_x = 1 / (1 + np.exp(-theta.T@X_train))\n",
    "\n",
    "    crossentropy = -y_train*np.log(h_x+0.00001) - (1-y_train)*np.log(1-h_x+0.00001)\n",
    "    [cost] = np.sum(crossentropy, axis=1) / X_train.shape[1]\n",
    "\n",
    "    theta_derivs = sum((h_x-y_train) @ X_train.T) / X_train.shape[1]\n",
    "    theta_derivs.shape = [len(theta_derivs), 1]\n",
    "\n",
    "    theta = theta - alpha*theta_derivs\n",
    "\n",
    "    # print every 200 iter:\n",
    "    if i%200 == 0:\n",
    "        print(\"iter \", str(i+1), \", cost \", cost)\n",
    "\n",
    "    if np.abs(prev_cost - cost) < eps:\n",
    "        break\n",
    "\n",
    "    prev_cost = cost"
   ]
  },
  {
   "cell_type": "code",
   "execution_count": 25,
   "metadata": {},
   "outputs": [
    {
     "name": "stdout",
     "output_type": "stream",
     "text": [
      "[[-7.14748058]\n",
      " [ 5.81595248]\n",
      " [ 4.98048485]]\n"
     ]
    }
   ],
   "source": [
    "print(theta)"
   ]
  },
  {
   "cell_type": "code",
   "execution_count": 26,
   "metadata": {},
   "outputs": [
    {
     "data": {
      "image/png": "[encoded data removed]",
      "text/plain": [
       "<Figure size 432x288 with 1 Axes>"
      ]
     },
     "metadata": {
      "needs_background": "light"
     },
     "output_type": "display_data"
    }
   ],
   "source": [
    "x1 = np.linspace(np.min(X_test[1, :]), np.max(X_test[1, :]), 100)\n",
    "#decision boundary:\n",
    "x2 = -theta[0, 0]/theta[2, 0] - theta[1, 0]/theta[2, 0] * x1\n",
    "\n",
    "X_positive = X_test[:, y_test[0, :] == 1]\n",
    "X_negative = X_test[:, y_test[0, :] == 0]\n",
    "\n",
    "plt.plot(X_positive[2, :], X_positive[1, :], '+')\n",
    "plt.plot(X_negative[2, :], X_negative[1, :], 'o')\n",
    "plt.plot(x2, x1, '-')\n",
    "plt.show()"
   ]
  }
 ],
 "metadata": {
  "kernelspec": {
   "display_name": "Python 3",
   "language": "python",
   "name": "python3"
  },
  "language_info": {
   "codemirror_mode": {
    "name": "ipython",
    "version": 3
   },
   "file_extension": ".py",
   "mimetype": "text/x-python",
   "name": "python",
   "nbconvert_exporter": "python",
   "pygments_lexer": "ipython3",
   "version": "3.7.4"
  }
 },
 "nbformat": 4,
 "nbformat_minor": 2
}
