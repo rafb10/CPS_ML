{
 "cells": [
  {
   "cell_type": "code",
   "execution_count": 1,
   "metadata": {},
   "outputs": [],
   "source": [
    "from sklearn import datasets\n",
    "from sklearn.model_selection import train_test_split\n",
    "from scipy.spatial import distance\n",
    "from sklearn.metrics import accuracy_score\n",
    "import numpy as np"
   ]
  },
  {
   "cell_type": "code",
   "execution_count": 2,
   "metadata": {},
   "outputs": [],
   "source": [
    "db_iris = datasets.load_iris()\n",
    " \n",
    "#Podziel zbiór na uczący i testowy, test_size - procentowy udział (przykład 50 % uczący i testowy)\n",
    "features_train, features_test, labels_train, labels_test = train_test_split(db_iris.data, db_iris.target, test_size=0.5)\n",
    " \n",
    "k = 5    "
   ]
  },
  {
   "cell_type": "code",
   "execution_count": 33,
   "metadata": {},
   "outputs": [],
   "source": [
    "def KNN(data_point, train_set, train_labels):\n",
    "    train_set_length = train_set.shape[0]\n",
    "    # Initialize the array where we will put distance to each train_point and.. \n",
    "    #  ..the label of the point to which the distance is calculated\n",
    "    distances = np.zeros((train_set_length, 2))\n",
    "    for i in range(train_set.shape[0]):\n",
    "        distances[i,0] = distance.euclidean(data_point, train_set[i])\n",
    "        distances[i,1] = train_labels[i]\n",
    "    sorted_distances = distances[np.argsort(distances[:, 0])] #po drugiej kolumnie\n",
    "    print(type(sorted_distances))\n",
    "    return sorted_distances\n",
    "        \n",
    "        "
   ]
  }
 ],
 "metadata": {
  "kernelspec": {
   "display_name": "Python 3",
   "language": "python",
   "name": "python3"
  },
  "language_info": {
   "codemirror_mode": {
    "name": "ipython",
    "version": 3
   },
   "file_extension": ".py",
   "mimetype": "text/x-python",
   "name": "python",
   "nbconvert_exporter": "python",
   "pygments_lexer": "ipython3",
   "version": "3.6.5"
  }
 },
 "nbformat": 4,
 "nbformat_minor": 2
}
