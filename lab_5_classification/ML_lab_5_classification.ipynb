{
 "cells": [
  {
   "cell_type": "code",
   "execution_count": 1,
   "metadata": {},
   "outputs": [],
   "source": [
    "from sklearn import datasets\n",
    "from sklearn.model_selection import train_test_split\n",
    "from scipy.spatial import distance\n",
    "from sklearn.metrics import accuracy_score\n",
    "import numpy as np\n",
    "import collections"
   ]
  },
  {
   "cell_type": "code",
   "execution_count": 2,
   "metadata": {},
   "outputs": [],
   "source": [
    "db_iris = datasets.load_iris()\n",
    " \n",
    "#Podziel zbiór na uczący i testowy, test_size - procentowy udział (przykład 50 % uczący i testowy)\n",
    "features_train, features_test, labels_train, labels_test = train_test_split(db_iris.data, db_iris.target, test_size=0.5)\n",
    " \n",
    "k = 5    "
   ]
  },
  {
   "cell_type": "code",
   "execution_count": 3,
   "metadata": {},
   "outputs": [],
   "source": [
    "def KNN(k, data_point, train_set, train_labels):\n",
    "    train_set_length = train_set.shape[0]\n",
    "    # Initialize the array where we will put distance to each train_point and.. \n",
    "    #  ..the label of the point to which the distance is calculated\n",
    "    distances = np.zeros((train_set_length, 2))\n",
    "    \n",
    "    for i in range(train_set.shape[0]):\n",
    "        distances[i,0] = distance.euclidean(data_point, train_set[i])\n",
    "        distances[i,1] = train_labels[i]\n",
    "        \n",
    "    sorted_distances = distances[np.argsort(distances[:, 0])] \n",
    "    k_nearest_labels = sorted_distances[:k].transpose()[1]\n",
    "    \n",
    "    list_of_most_common = [(0.0, 0.0), (0.0, 0.0)]#just to open the while-loop first time\n",
    "    \n",
    "    while list_of_most_common[0][0] == list_of_most_common[1][0]: \n",
    "        k_nearest_labels = sorted_distances[:k].transpose()[1]\n",
    "        # Count how many times each value occurs in first k rows\n",
    "        cnt = collections.Counter(k_nearest_labels)\n",
    "        list_of_most_common = cnt.most_common(2)\n",
    "        if len(list_of_most_common) == 1:\n",
    "            return list_of_most_common[0][0]\n",
    "        if list_of_most_common[0][0] != list_of_most_common[1][0]:\n",
    "            return list_of_most_common[0][0]\n",
    "        #Increment k if there are 2 or more labels than occurs most frequently\n",
    "        k = k+1"
   ]
  },
  {
   "cell_type": "code",
   "execution_count": 4,
   "metadata": {},
   "outputs": [],
   "source": [
    "labels_from_KNN = []\n",
    "for obj in features_test:\n",
    "    labels_from_KNN.append(KNN(k,obj, features_train, labels_train))"
   ]
  },
  {
   "cell_type": "code",
   "execution_count": 5,
   "metadata": {},
   "outputs": [
    {
     "name": "stdout",
     "output_type": "stream",
     "text": [
      "[True, True, True, True, True, True, True, True, True, True, True, True, True, True, True, True, True, True, True, True, True, True, True, True, True, True, True, True, True, True, True, True, True, True, True, True, True, True, True, True, True, True, True, True, True, True, True, True, True, True, True, True, True, False, True, True, True, True, False, True, True, True, True, True, True, True, True, True, True, True, True, True, True, True, True]\n"
     ]
    }
   ],
   "source": [
    "# Check if obtained labels are compilant with labels_test:\n",
    "check_results = []\n",
    "i = 0\n",
    "for label in labels_from_KNN:\n",
    "    if label == labels_test[i]:\n",
    "       check_results.append(True)\n",
    "    else:\n",
    "        check_results.append(False)\n",
    "    i=i+1\n",
    "print(check_results)"
   ]
  },
  {
   "cell_type": "markdown",
   "metadata": {},
   "source": [
    "### The function works quite good. Only 2 labels were assigned different from labels_test"
   ]
  },
  {
   "cell_type": "markdown",
   "metadata": {},
   "source": [
    "#### The work not yet finished..."
   ]
  }
 ],
 "metadata": {
  "kernelspec": {
   "display_name": "Python 3",
   "language": "python",
   "name": "python3"
  },
  "language_info": {
   "codemirror_mode": {
    "name": "ipython",
    "version": 3
   },
   "file_extension": ".py",
   "mimetype": "text/x-python",
   "name": "python",
   "nbconvert_exporter": "python",
   "pygments_lexer": "ipython3",
   "version": "3.6.5"
  }
 },
 "nbformat": 4,
 "nbformat_minor": 2
}
